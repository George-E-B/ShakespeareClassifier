{
  "cells": [
    {
      "cell_type": "markdown",
      "metadata": {
        "colab_type": "text",
        "id": "view-in-github"
      },
      "source": [
        "<a href=\"https://colab.research.google.com/github/George-E-B/ShakespeareClassifier/blob/main/BERTShakespeare.ipynb\" target=\"_parent\"><img src=\"https://colab.research.google.com/assets/colab-badge.svg\" alt=\"Open In Colab\"/></a>"
      ]
    },
    {
      "cell_type": "code",
      "execution_count": 1,
      "metadata": {
        "colab": {
          "base_uri": "https://localhost:8080/"
        },
        "id": "N5zefKjw2-mz",
        "outputId": "7d2ef945-76af-4926-8c70-bba81f8aac70"
      },
      "outputs": [
        {
          "name": "stdout",
          "output_type": "stream",
          "text": [
            "\u001b[K     |████████████████████████████████| 4.9 MB 11.9 MB/s \n",
            "\u001b[K     |████████████████████████████████| 498.0 MB 11 kB/s \n",
            "\u001b[K     |████████████████████████████████| 5.8 MB 66.3 MB/s \n",
            "\u001b[K     |████████████████████████████████| 462 kB 65.7 MB/s \n",
            "\u001b[K     |████████████████████████████████| 1.4 MB 66.1 MB/s \n",
            "\u001b[?25h"
          ]
        }
      ],
      "source": [
        "!pip install -q -U \"tensorflow-text==2.8.*\""
      ]
    },
    {
      "cell_type": "code",
      "execution_count": 2,
      "metadata": {
        "colab": {
          "base_uri": "https://localhost:8080/"
        },
        "id": "FvJKLTBu3J-b",
        "outputId": "1e068a5d-796f-438e-f2c5-202e58c54e47"
      },
      "outputs": [
        {
          "name": "stdout",
          "output_type": "stream",
          "text": [
            "\u001b[K     |████████████████████████████████| 1.8 MB 14.6 MB/s \n",
            "\u001b[K     |████████████████████████████████| 238 kB 58.7 MB/s \n",
            "\u001b[K     |████████████████████████████████| 43 kB 2.1 MB/s \n",
            "\u001b[K     |████████████████████████████████| 1.3 MB 74.7 MB/s \n",
            "\u001b[K     |████████████████████████████████| 352 kB 62.9 MB/s \n",
            "\u001b[K     |████████████████████████████████| 118 kB 82.1 MB/s \n",
            "\u001b[K     |████████████████████████████████| 1.1 MB 54.5 MB/s \n",
            "\u001b[?25h  Building wheel for seqeval (setup.py) ... \u001b[?25l\u001b[?25hdone\n"
          ]
        }
      ],
      "source": [
        "!python -m pip install -q tf-models-official==2.7.0"
      ]
    },
    {
      "cell_type": "code",
      "execution_count": 3,
      "metadata": {
        "id": "SDGUcj9Q3Qf9"
      },
      "outputs": [],
      "source": [
        "import os\n",
        "import shutil\n",
        "\n",
        "import tensorflow as tf\n",
        "import tensorflow_hub as hub\n",
        "import tensorflow_text as text\n",
        "from official.nlp import optimization\n",
        "\n",
        "import matplotlib.pyplot as plt\n",
        "\n",
        "tf.get_logger().setLevel('ERROR')"
      ]
    },
    {
      "cell_type": "code",
      "execution_count": 4,
      "metadata": {
        "colab": {
          "base_uri": "https://localhost:8080/"
        },
        "id": "TQ4_Ghmq3To7",
        "outputId": "99012aa8-4c54-4fc0-bbf0-3b2a5728192d"
      },
      "outputs": [
        {
          "name": "stdout",
          "output_type": "stream",
          "text": [
            "./data\n",
            "Train directory: ./data/train \n",
            "Test directory: ./data/test\n"
          ]
        }
      ],
      "source": [
        "dataset_dir = os.path.join(os.path.dirname('.'), './data')\n",
        "print(dataset_dir)\n",
        "\n",
        "train_dir = os.path.join(dataset_dir, 'train')\n",
        "test_dir = os.path.join(dataset_dir, 'test')\n",
        "print(\"Train directory:\", train_dir,\"\\nTest directory:\", test_dir)"
      ]
    },
    {
      "cell_type": "code",
      "execution_count": null,
      "metadata": {
        "colab": {
          "base_uri": "https://localhost:8080/",
          "height": 56
        },
        "id": "rRVzKbMZkI3F",
        "outputId": "b64960a8-7da7-401f-8055-ffe4b6bd11eb"
      },
      "outputs": [
        {
          "data": {
            "text/html": [
              "\n",
              "     <input type=\"file\" id=\"files-c5f1c8e6-09dc-4dfd-9803-5b6ac91d1fd6\" name=\"files[]\" multiple disabled\n",
              "        style=\"border:none\" />\n",
              "     <output id=\"result-c5f1c8e6-09dc-4dfd-9803-5b6ac91d1fd6\">\n",
              "      Upload widget is only available when the cell has been executed in the\n",
              "      current browser session. Please rerun this cell to enable.\n",
              "      </output>\n",
              "      <script>// Copyright 2017 Google LLC\n",
              "//\n",
              "// Licensed under the Apache License, Version 2.0 (the \"License\");\n",
              "// you may not use this file except in compliance with the License.\n",
              "// You may obtain a copy of the License at\n",
              "//\n",
              "//      http://www.apache.org/licenses/LICENSE-2.0\n",
              "//\n",
              "// Unless required by applicable law or agreed to in writing, software\n",
              "// distributed under the License is distributed on an \"AS IS\" BASIS,\n",
              "// WITHOUT WARRANTIES OR CONDITIONS OF ANY KIND, either express or implied.\n",
              "// See the License for the specific language governing permissions and\n",
              "// limitations under the License.\n",
              "\n",
              "/**\n",
              " * @fileoverview Helpers for google.colab Python module.\n",
              " */\n",
              "(function(scope) {\n",
              "function span(text, styleAttributes = {}) {\n",
              "  const element = document.createElement('span');\n",
              "  element.textContent = text;\n",
              "  for (const key of Object.keys(styleAttributes)) {\n",
              "    element.style[key] = styleAttributes[key];\n",
              "  }\n",
              "  return element;\n",
              "}\n",
              "\n",
              "// Max number of bytes which will be uploaded at a time.\n",
              "const MAX_PAYLOAD_SIZE = 100 * 1024;\n",
              "\n",
              "function _uploadFiles(inputId, outputId) {\n",
              "  const steps = uploadFilesStep(inputId, outputId);\n",
              "  const outputElement = document.getElementById(outputId);\n",
              "  // Cache steps on the outputElement to make it available for the next call\n",
              "  // to uploadFilesContinue from Python.\n",
              "  outputElement.steps = steps;\n",
              "\n",
              "  return _uploadFilesContinue(outputId);\n",
              "}\n",
              "\n",
              "// This is roughly an async generator (not supported in the browser yet),\n",
              "// where there are multiple asynchronous steps and the Python side is going\n",
              "// to poll for completion of each step.\n",
              "// This uses a Promise to block the python side on completion of each step,\n",
              "// then passes the result of the previous step as the input to the next step.\n",
              "function _uploadFilesContinue(outputId) {\n",
              "  const outputElement = document.getElementById(outputId);\n",
              "  const steps = outputElement.steps;\n",
              "\n",
              "  const next = steps.next(outputElement.lastPromiseValue);\n",
              "  return Promise.resolve(next.value.promise).then((value) => {\n",
              "    // Cache the last promise value to make it available to the next\n",
              "    // step of the generator.\n",
              "    outputElement.lastPromiseValue = value;\n",
              "    return next.value.response;\n",
              "  });\n",
              "}\n",
              "\n",
              "/**\n",
              " * Generator function which is called between each async step of the upload\n",
              " * process.\n",
              " * @param {string} inputId Element ID of the input file picker element.\n",
              " * @param {string} outputId Element ID of the output display.\n",
              " * @return {!Iterable<!Object>} Iterable of next steps.\n",
              " */\n",
              "function* uploadFilesStep(inputId, outputId) {\n",
              "  const inputElement = document.getElementById(inputId);\n",
              "  inputElement.disabled = false;\n",
              "\n",
              "  const outputElement = document.getElementById(outputId);\n",
              "  outputElement.innerHTML = '';\n",
              "\n",
              "  const pickedPromise = new Promise((resolve) => {\n",
              "    inputElement.addEventListener('change', (e) => {\n",
              "      resolve(e.target.files);\n",
              "    });\n",
              "  });\n",
              "\n",
              "  const cancel = document.createElement('button');\n",
              "  inputElement.parentElement.appendChild(cancel);\n",
              "  cancel.textContent = 'Cancel upload';\n",
              "  const cancelPromise = new Promise((resolve) => {\n",
              "    cancel.onclick = () => {\n",
              "      resolve(null);\n",
              "    };\n",
              "  });\n",
              "\n",
              "  // Wait for the user to pick the files.\n",
              "  const files = yield {\n",
              "    promise: Promise.race([pickedPromise, cancelPromise]),\n",
              "    response: {\n",
              "      action: 'starting',\n",
              "    }\n",
              "  };\n",
              "\n",
              "  cancel.remove();\n",
              "\n",
              "  // Disable the input element since further picks are not allowed.\n",
              "  inputElement.disabled = true;\n",
              "\n",
              "  if (!files) {\n",
              "    return {\n",
              "      response: {\n",
              "        action: 'complete',\n",
              "      }\n",
              "    };\n",
              "  }\n",
              "\n",
              "  for (const file of files) {\n",
              "    const li = document.createElement('li');\n",
              "    li.append(span(file.name, {fontWeight: 'bold'}));\n",
              "    li.append(span(\n",
              "        `(${file.type || 'n/a'}) - ${file.size} bytes, ` +\n",
              "        `last modified: ${\n",
              "            file.lastModifiedDate ? file.lastModifiedDate.toLocaleDateString() :\n",
              "                                    'n/a'} - `));\n",
              "    const percent = span('0% done');\n",
              "    li.appendChild(percent);\n",
              "\n",
              "    outputElement.appendChild(li);\n",
              "\n",
              "    const fileDataPromise = new Promise((resolve) => {\n",
              "      const reader = new FileReader();\n",
              "      reader.onload = (e) => {\n",
              "        resolve(e.target.result);\n",
              "      };\n",
              "      reader.readAsArrayBuffer(file);\n",
              "    });\n",
              "    // Wait for the data to be ready.\n",
              "    let fileData = yield {\n",
              "      promise: fileDataPromise,\n",
              "      response: {\n",
              "        action: 'continue',\n",
              "      }\n",
              "    };\n",
              "\n",
              "    // Use a chunked sending to avoid message size limits. See b/62115660.\n",
              "    let position = 0;\n",
              "    do {\n",
              "      const length = Math.min(fileData.byteLength - position, MAX_PAYLOAD_SIZE);\n",
              "      const chunk = new Uint8Array(fileData, position, length);\n",
              "      position += length;\n",
              "\n",
              "      const base64 = btoa(String.fromCharCode.apply(null, chunk));\n",
              "      yield {\n",
              "        response: {\n",
              "          action: 'append',\n",
              "          file: file.name,\n",
              "          data: base64,\n",
              "        },\n",
              "      };\n",
              "\n",
              "      let percentDone = fileData.byteLength === 0 ?\n",
              "          100 :\n",
              "          Math.round((position / fileData.byteLength) * 100);\n",
              "      percent.textContent = `${percentDone}% done`;\n",
              "\n",
              "    } while (position < fileData.byteLength);\n",
              "  }\n",
              "\n",
              "  // All done.\n",
              "  yield {\n",
              "    response: {\n",
              "      action: 'complete',\n",
              "    }\n",
              "  };\n",
              "}\n",
              "\n",
              "scope.google = scope.google || {};\n",
              "scope.google.colab = scope.google.colab || {};\n",
              "scope.google.colab._files = {\n",
              "  _uploadFiles,\n",
              "  _uploadFilesContinue,\n",
              "};\n",
              "})(self);\n",
              "</script> "
            ],
            "text/plain": [
              "<IPython.core.display.HTML object>"
            ]
          },
          "metadata": {},
          "output_type": "display_data"
        }
      ],
      "source": [
        "from google.colab import files\n",
        "uploaded = files.upload()"
      ]
    },
    {
      "cell_type": "code",
      "execution_count": null,
      "metadata": {
        "id": "hwZYL2_ck00b"
      },
      "outputs": [],
      "source": [
        "!pwd\n",
        "!mkdir data\n",
        "!ls\n",
        "!mkdir data/train\n",
        "!mkdir data/test\n",
        "!mkdir data/train/pos\n",
        "!mkdir data/train/neg\n",
        "!mkdir data/test/pos\n",
        "!mkdir data/test/neg\n",
        "!mv formatParagraphs.txt data\n",
        "!mv adversFormatParagraphs.txt data\n",
        "!ls"
      ]
    },
    {
      "cell_type": "code",
      "execution_count": null,
      "metadata": {
        "id": "y0AIuzeL8wT1"
      },
      "outputs": [],
      "source": [
        "!ls data\n",
        "!ls data/test\n",
        "!ls data/test/neg"
      ]
    },
    {
      "cell_type": "code",
      "execution_count": null,
      "metadata": {
        "id": "VliFYbzqkoY1"
      },
      "outputs": [],
      "source": [
        "#read in adversarial and regular data and write them one sentence at a time into separate files in folders\n",
        "import ast\n",
        "SENTENCES_PER_FILE = 20\n",
        "\n",
        "def formatData(file, typ, trest):\n",
        "    global SENTENCES_PER_FILE\n",
        "    fString = file.read()\n",
        "    lst = ast.literal_eval(fString)\n",
        "    fNum = 0\n",
        "    if trest == \"train\":\n",
        "        sNum = 0\n",
        "        lNum = len(lst)//2\n",
        "    elif trest == \"test\":\n",
        "        sNum = len(lst)//2 + 1\n",
        "        lNum = len(lst)\n",
        "    for i in range(sNum, lNum):\n",
        "        if typ == \"pos\":\n",
        "            mult = 18\n",
        "        else:\n",
        "            mult = 1\n",
        "        if i % int(SENTENCES_PER_FILE * mult) == 0:\n",
        "            fNum += 1\n",
        "            delFile = open(f\"./data/{trest}/{typ}/{fNum}.txt\", \"w\") ##clear file data from potential previous run\n",
        "            delFile.close()\n",
        "        with open(f\"./data/{trest}/{typ}/{fNum}.txt\", \"a\") as f:\n",
        "            f.write(lst[i] + \"\\n\")\n",
        "    return fNum\n",
        "\n",
        "with open(\"./data/adversFormatParagraphs.txt\", \"r\") as f:\n",
        "    print(\"neg, train:\", formatData(f, \"neg\", \"train\"))\n",
        "\n",
        "with open(\"./data/adversFormatParagraphs.txt\", \"r\") as f:\n",
        "    print(\"neg, test:\", formatData(f, \"neg\", \"test\"))\n",
        "\n",
        "with open(\"./data/formatParagraphs.txt\", \"r\") as f:\n",
        "    print(\"pos, train:\", formatData(f, \"pos\", \"train\"))\n",
        "    \n",
        "with open(\"./data/formatParagraphs.txt\", \"r\") as f:\n",
        "    print(\"pos, test:\", formatData(f, \"pos\", \"test\"))"
      ]
    },
    {
      "cell_type": "code",
      "execution_count": null,
      "metadata": {
        "id": "JFn0UTiw3v6L"
      },
      "outputs": [],
      "source": [
        "AUTOTUNE = tf.data.AUTOTUNE\n",
        "batch_size = 32\n",
        "seed = 42\n",
        "\n",
        "!pwd\n",
        "raw_train_ds = tf.keras.utils.text_dataset_from_directory(\n",
        "    train_dir,\n",
        "    batch_size=batch_size,\n",
        "    validation_split=0.5, ##50:50 split on training:validation data\n",
        "    subset='training',\n",
        "    seed=seed)\n",
        "\n",
        "class_names = raw_train_ds.class_names\n",
        "train_ds = raw_train_ds.cache().prefetch(buffer_size=AUTOTUNE)\n",
        "\n",
        "val_ds = tf.keras.utils.text_dataset_from_directory(\n",
        "    train_dir,\n",
        "    batch_size=batch_size,\n",
        "    validation_split=0.5,\n",
        "    subset='validation',\n",
        "    seed=seed)\n",
        "\n",
        "val_ds = val_ds.cache().prefetch(buffer_size=AUTOTUNE)\n",
        "\n",
        "test_ds = tf.keras.utils.text_dataset_from_directory(\n",
        "    test_dir,\n",
        "    batch_size=batch_size)\n",
        "\n",
        "test_ds = test_ds.cache().prefetch(buffer_size=AUTOTUNE)"
      ]
    },
    {
      "cell_type": "code",
      "execution_count": null,
      "metadata": {
        "id": "uYP7whLL4Qjd"
      },
      "outputs": [],
      "source": [
        "for text_batch, label_batch in train_ds.take(1):\n",
        "  for i in range(3):\n",
        "    print(f'Text  : {text_batch.numpy()[i]}')\n",
        "    label = label_batch.numpy()[i]\n",
        "    print(f'Label : {label} ({class_names[label]})')"
      ]
    },
    {
      "cell_type": "markdown",
      "metadata": {
        "id": "iRAtITnJ6vrf"
      },
      "source": [
        "# Choosing BERT model:"
      ]
    },
    {
      "cell_type": "code",
      "execution_count": 2,
      "metadata": {
        "id": "N5VZyiTz4rlF"
      },
      "outputs": [
        {
          "name": "stdout",
          "output_type": "stream",
          "text": [
            "BERT model       : https://tfhub.dev/tensorflow/small_bert/bert_en_uncased_L-4_H-512_A-8/1\n",
            "Preprocess model : https://tfhub.dev/tensorflow/bert_en_uncased_preprocess/3\n"
          ]
        }
      ],
      "source": [
        "bertModelName = 'small_bert/bert_en_uncased_L-4_H-512_A-8'\n",
        "\n",
        "tfhubHandleEncoder = \"https://tfhub.dev/tensorflow/small_bert/bert_en_uncased_L-4_H-512_A-8/1\"\n",
        "tfhubHandlePreprocess = \"https://tfhub.dev/tensorflow/bert_en_uncased_preprocess/3\"\n",
        "\n",
        "print(f'BERT model       : {tfhubHandleEncoder}')\n",
        "print(f'Preprocess model : {tfhubHandlePreprocess}')"
      ]
    },
    {
      "cell_type": "markdown",
      "metadata": {
        "id": "tVPrzht09ajD"
      },
      "source": [
        "# Defining the fine-tuning model"
      ]
    },
    {
      "cell_type": "code",
      "execution_count": null,
      "metadata": {
        "id": "YDLCzXWO9d6U"
      },
      "outputs": [],
      "source": [
        "def build_classifier_model():\n",
        "  text_input = tf.keras.layers.Input(shape=(), dtype=tf.string, name='text')\n",
        "  preprocessing_layer = hub.KerasLayer(tfhubHandlePreprocess, name='preprocessing')\n",
        "  encoder_inputs = preprocessing_layer(text_input)\n",
        "  encoder = hub.KerasLayer(tfhubHandleEncoder, trainable=True, name='BERT_encoder')\n",
        "  outputs = encoder(encoder_inputs)\n",
        "  net = outputs['pooled_output']\n",
        "  net = tf.keras.layers.Dropout(0.9)(net)\n",
        "  net = tf.keras.layers.Dense(1, activation=None, name='classifier', kernel_regularizer=tf.keras.regularizers.L1(0.01), activity_regularizer=tf.keras.regularizers.L2(0.01))(net)\n",
        "  return tf.keras.Model(text_input, net)"
      ]
    },
    {
      "cell_type": "code",
      "execution_count": null,
      "metadata": {
        "id": "2R2kYH8_9wjX"
      },
      "outputs": [],
      "source": [
        "classifierModel = build_classifier_model()\n",
        "bert_raw_result = classifierModel(tf.constant(text_test))\n",
        "print(tf.sigmoid(bert_raw_result))"
      ]
    },
    {
      "cell_type": "markdown",
      "metadata": {
        "id": "ryJMBWfm96F-"
      },
      "source": [
        "Model runs! But it has not been trained yet so the output is meaningless."
      ]
    },
    {
      "cell_type": "code",
      "execution_count": null,
      "metadata": {
        "id": "kq4IRm5H-Bh5"
      },
      "outputs": [],
      "source": [
        "tf.keras.utils.plot_model(classifierModel)"
      ]
    },
    {
      "cell_type": "code",
      "execution_count": null,
      "metadata": {
        "id": "plHZgq3RPRYu"
      },
      "outputs": [],
      "source": [
        "classifierModel.summary()"
      ]
    },
    {
      "cell_type": "markdown",
      "metadata": {
        "id": "ZyT9Qn63-OMn"
      },
      "source": [
        "# Model Training"
      ]
    },
    {
      "cell_type": "code",
      "execution_count": null,
      "metadata": {
        "id": "t46EHk9V-Psj"
      },
      "outputs": [],
      "source": [
        "loss = tf.keras.losses.BinaryCrossentropy(from_logits=True)\n",
        "metrics = tf.metrics.BinaryAccuracy()"
      ]
    },
    {
      "cell_type": "code",
      "execution_count": null,
      "metadata": {
        "id": "Mwaqjpog-lrR"
      },
      "outputs": [],
      "source": [
        "epochs = 10\n",
        "stepsPerEpoch = tf.data.experimental.cardinality(train_ds).numpy()\n",
        "numTrainSteps = stepsPerEpoch * epochs\n",
        "numWarmupSteps = int(0.1*numTrainSteps)\n",
        "\n",
        "initLr = 3e-6\n",
        "optimizer = optimization.create_optimizer(init_lr=initLr,\n",
        "                                          num_train_steps=numTrainSteps,\n",
        "                                          num_warmup_steps=numWarmupSteps,\n",
        "                                          optimizer_type='adamw')"
      ]
    },
    {
      "cell_type": "code",
      "execution_count": null,
      "metadata": {
        "id": "E6VtibRHvw3v"
      },
      "outputs": [],
      "source": [
        "deviceName = tf.test.gpu_device_name()\n",
        "if len(deviceName) > 0:\n",
        "    print(\"Found GPU at: {}\".format(deviceName))\n",
        "else:\n",
        "    deviceName = \"/device:CPU:0\"\n",
        "    print(\"No GPU, using {}.\".format(deviceName))"
      ]
    },
    {
      "cell_type": "markdown",
      "metadata": {
        "id": "2JN7cG4e_eh4"
      },
      "source": [
        "# Loading the BERT Model and Training"
      ]
    },
    {
      "cell_type": "code",
      "execution_count": null,
      "metadata": {
        "id": "GXdiMAAC_cs6"
      },
      "outputs": [],
      "source": [
        "with (tf.device(deviceName)):\n",
        "  classifierModel.compile(optimizer=optimizer,\n",
        "                          loss=loss,\n",
        "                          metrics=metrics) ##load model"
      ]
    },
    {
      "cell_type": "code",
      "execution_count": null,
      "metadata": {
        "id": "isqG4Fi__jiT"
      },
      "outputs": [],
      "source": [
        "print(f'Training model with {tfhubHandleEncoder}')\n",
        "history = classifierModel.fit(x=train_ds,\n",
        "                              validation_data=val_ds,\n",
        "                              epochs=epochs)"
      ]
    },
    {
      "cell_type": "markdown",
      "metadata": {
        "id": "nEoXeSHnwLFL"
      },
      "source": [
        "# Evaluate the Model"
      ]
    },
    {
      "cell_type": "code",
      "execution_count": null,
      "metadata": {
        "id": "YytS95U9wKAc"
      },
      "outputs": [],
      "source": [
        "loss, accuracy = classifierModel.evaluate(test_ds)\n",
        "\n",
        "print(f'Loss: {loss}')\n",
        "print(f'Accuracy: {accuracy}')"
      ]
    },
    {
      "cell_type": "markdown",
      "metadata": {
        "id": "bm132K87waWC"
      },
      "source": [
        "# Plot Accuracy and Loss Over Time"
      ]
    },
    {
      "cell_type": "code",
      "execution_count": null,
      "metadata": {
        "id": "fxl4snfOwe-9"
      },
      "outputs": [],
      "source": [
        "historyDict = history.history\n",
        "print(historyDict.keys())\n",
        "\n",
        "acc = historyDict['binary_accuracy']\n",
        "val_acc = historyDict['val_binary_accuracy']\n",
        "loss = historyDict['loss']\n",
        "val_loss = historyDict['val_loss']\n",
        "\n",
        "epochs = range(1, len(acc) + 1)\n",
        "fig = plt.figure(figsize=(10, 6))\n",
        "fig.tight_layout()\n",
        "\n",
        "plt.subplot(2, 1, 1)\n",
        "# r is for \"solid red line\"\n",
        "plt.plot(epochs, loss, 'r', label='Training loss')\n",
        "# b is for \"solid blue line\"\n",
        "plt.plot(epochs, val_loss, 'b', label='Validation loss')\n",
        "plt.title('Training and validation loss')\n",
        "# plt.xlabel('Epochs')\n",
        "plt.ylabel('Loss')\n",
        "plt.legend()\n",
        "\n",
        "plt.subplot(2, 1, 2)\n",
        "plt.plot(epochs, acc, 'r', label='Training acc')\n",
        "plt.plot(epochs, val_acc, 'b', label='Validation acc')\n",
        "plt.title('Training and validation accuracy')\n",
        "plt.xlabel('Epochs')\n",
        "plt.ylabel('Accuracy')\n",
        "plt.legend(loc='lower right')"
      ]
    },
    {
      "cell_type": "markdown",
      "metadata": {
        "id": "5UAix0jA8spX"
      },
      "source": [
        "# Export and Test on Arbitrary Sentence"
      ]
    },
    {
      "cell_type": "code",
      "execution_count": null,
      "metadata": {
        "id": "GR5uOUx69OoR"
      },
      "outputs": [],
      "source": [
        "dsName = 'shakespeare'\n",
        "savedModelPath = './{}_bert'.format(dsName.replace('/', '_'))\n",
        "\n",
        "classifierModel.save(savedModelPath, include_optimizer=False)"
      ]
    },
    {
      "cell_type": "code",
      "execution_count": null,
      "metadata": {
        "id": "rCBCv-r79P4M"
      },
      "outputs": [],
      "source": [
        "reloadedModel = tf.saved_model.load(savedModelPath)"
      ]
    },
    {
      "cell_type": "code",
      "execution_count": null,
      "metadata": {
        "id": "I3EzDB6o9U1n"
      },
      "outputs": [],
      "source": [
        "def printExamples(inputs, results):\n",
        "  resultForPrinting = \\\n",
        "    [f'input: {inputs[i]:<65} : score: {results[i][0]:.6f}'\n",
        "                         for i in range(len(inputs))]\n",
        "  print(*resultForPrinting, sep='\\n')\n",
        "  print()\n",
        "\n",
        "\n",
        "examples = [\n",
        "    'where is this sentence going idk',\n",
        "    'Oh Romeo, Romeo, wherefore art thou Romeo?',\n",
        "    'asdsa  ahsdbb13614b',\n",
        "    'Is that the meaning of \\'accost\\'?',\n",
        "    'this is a completely normal sentence which is not shakespeare'\n",
        "]\n",
        "\n",
        "original_results = tf.sigmoid(classifierModel(tf.constant(examples)))\n",
        "\n",
        "print('Results from the model in memory:')\n",
        "printExamples(examples, original_results)"
      ]
    }
  ],
  "metadata": {
    "accelerator": "GPU",
    "colab": {
      "authorship_tag": "ABX9TyPnRnYdBCHF7JbnT/onxZaM",
      "include_colab_link": true,
      "provenance": []
    },
    "gpuClass": "standard",
    "kernelspec": {
      "display_name": "Python 3.7.9 32-bit",
      "language": "python",
      "name": "python3"
    },
    "language_info": {
      "codemirror_mode": {
        "name": "ipython",
        "version": 3
      },
      "file_extension": ".py",
      "mimetype": "text/x-python",
      "name": "python",
      "nbconvert_exporter": "python",
      "pygments_lexer": "ipython3",
      "version": "3.7.9"
    },
    "vscode": {
      "interpreter": {
        "hash": "f30efcaa7cbfc03045f5c2176c570381f058df5d9e52359bbf21737f9fb14d4e"
      }
    }
  },
  "nbformat": 4,
  "nbformat_minor": 0
}
